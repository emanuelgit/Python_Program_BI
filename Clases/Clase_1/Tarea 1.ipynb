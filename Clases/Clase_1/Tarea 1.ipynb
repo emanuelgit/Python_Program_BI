{
 "cells": [
  {
   "cell_type": "markdown",
   "metadata": {},
   "source": [
    "## Tarea 1"
   ]
  },
  {
   "cell_type": "markdown",
   "metadata": {},
   "source": [
    "* Dejar los valores desde el 1 al 100 en una lista"
   ]
  },
  {
   "cell_type": "markdown",
   "metadata": {},
   "source": [
    "* Pide un número por teclado y guarda en una lista su tabla de multiplicar desde el 1 hasta el 100. \n",
    "por ejemplo si pide el 2 la lista tendrá:\n",
    "[2,4,6,8,10,12,14,16,18,20]\n",
    "    "
   ]
  },
  {
   "cell_type": "markdown",
   "metadata": {},
   "source": [
    "* Pide números y mételos en una lista, hasta 10 números. Por último, muesta los números ordenados de\n",
    "mayor a menor."
   ]
  }
 ],
 "metadata": {
  "kernelspec": {
   "display_name": "Python 3",
   "language": "python",
   "name": "python3"
  },
  "language_info": {
   "codemirror_mode": {
    "name": "ipython",
    "version": 3
   },
   "file_extension": ".py",
   "mimetype": "text/x-python",
   "name": "python",
   "nbconvert_exporter": "python",
   "pygments_lexer": "ipython3",
   "version": "3.6.5"
  }
 },
 "nbformat": 4,
 "nbformat_minor": 2
}
